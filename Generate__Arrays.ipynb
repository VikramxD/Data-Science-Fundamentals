{
  "nbformat": 4,
  "nbformat_minor": 0,
  "metadata": {
    "colab": {
      "name": "Generate_ Arrays.ipynb",
      "provenance": [],
      "authorship_tag": "ABX9TyMvZhrxj2egDZDCGadr9PYa",
      "include_colab_link": true
    },
    "kernelspec": {
      "name": "python3",
      "display_name": "Python 3"
    }
  },
  "cells": [
    {
      "cell_type": "markdown",
      "metadata": {
        "id": "view-in-github",
        "colab_type": "text"
      },
      "source": [
        "<a href=\"https://colab.research.google.com/github/VikramxD/Data-Science-Fundamentals/blob/gh-pages/Generate__Arrays.ipynb\" target=\"_parent\"><img src=\"https://colab.research.google.com/assets/colab-badge.svg\" alt=\"Open In Colab\"/></a>"
      ]
    },
    {
      "cell_type": "code",
      "metadata": {
        "id": "mcCHRIVoP9tw"
      },
      "source": [
        "import numpy as np"
      ],
      "execution_count": 1,
      "outputs": []
    },
    {
      "cell_type": "code",
      "metadata": {
        "id": "DJ8rHwUDQuvQ",
        "outputId": "7e5a8e16-87dc-4c1f-b2ac-a5e4ae0a12d6",
        "colab": {
          "base_uri": "https://localhost:8080/",
          "height": 51
        }
      },
      "source": [
        "np.zeros((2,3))"
      ],
      "execution_count": 3,
      "outputs": [
        {
          "output_type": "execute_result",
          "data": {
            "text/plain": [
              "array([[0., 0., 0.],\n",
              "       [0., 0., 0.]])"
            ]
          },
          "metadata": {
            "tags": []
          },
          "execution_count": 3
        }
      ]
    },
    {
      "cell_type": "code",
      "metadata": {
        "id": "_M6K0qnrRQDl",
        "outputId": "ab594ba6-1049-4ffc-c313-5ea2f2299c32",
        "colab": {
          "base_uri": "https://localhost:8080/",
          "height": 51
        }
      },
      "source": [
        "np.ones((2,3))"
      ],
      "execution_count": 4,
      "outputs": [
        {
          "output_type": "execute_result",
          "data": {
            "text/plain": [
              "array([[1., 1., 1.],\n",
              "       [1., 1., 1.]])"
            ]
          },
          "metadata": {
            "tags": []
          },
          "execution_count": 4
        }
      ]
    },
    {
      "cell_type": "code",
      "metadata": {
        "id": "RC1YjQ2eRS0p",
        "outputId": "ae3aa7b9-a8bc-4428-8d8f-d9985ecbecad",
        "colab": {
          "base_uri": "https://localhost:8080/",
          "height": 102
        }
      },
      "source": [
        "np.eye(5)"
      ],
      "execution_count": 5,
      "outputs": [
        {
          "output_type": "execute_result",
          "data": {
            "text/plain": [
              "array([[1., 0., 0., 0., 0.],\n",
              "       [0., 1., 0., 0., 0.],\n",
              "       [0., 0., 1., 0., 0.],\n",
              "       [0., 0., 0., 1., 0.],\n",
              "       [0., 0., 0., 0., 1.]])"
            ]
          },
          "metadata": {
            "tags": []
          },
          "execution_count": 5
        }
      ]
    },
    {
      "cell_type": "code",
      "metadata": {
        "id": "HAAgIFu6RVai",
        "outputId": "a503e8cb-8aa0-48a5-802d-26b535e98a4a",
        "colab": {
          "base_uri": "https://localhost:8080/",
          "height": 50
        }
      },
      "source": [
        "20*np.ones((2,3))"
      ],
      "execution_count": 7,
      "outputs": [
        {
          "output_type": "execute_result",
          "data": {
            "text/plain": [
              "array([[20., 20., 20.],\n",
              "       [20., 20., 20.]])"
            ]
          },
          "metadata": {
            "tags": []
          },
          "execution_count": 7
        }
      ]
    },
    {
      "cell_type": "code",
      "metadata": {
        "id": "DdanaHX4Rpgq",
        "outputId": "0ff37681-6399-4b05-8b94-2b13a5c17599",
        "colab": {
          "base_uri": "https://localhost:8080/",
          "height": 235
        }
      },
      "source": [
        "np.random.randn(30,40)"
      ],
      "execution_count": 16,
      "outputs": [
        {
          "output_type": "execute_result",
          "data": {
            "text/plain": [
              "array([[-0.45410104,  0.69471226, -0.20132011, ..., -0.63113122,\n",
              "        -1.49928428,  0.85988315],\n",
              "       [ 1.94207044, -0.09228541, -0.06878558, ..., -1.36200816,\n",
              "         0.89726415, -0.0792569 ],\n",
              "       [ 0.90848624,  0.58910119,  0.46830577, ...,  0.6885358 ,\n",
              "        -0.7936376 , -1.85045209],\n",
              "       ...,\n",
              "       [-1.10286781,  0.27252937, -0.74566194, ..., -0.9994728 ,\n",
              "        -0.01927335,  0.0609656 ],\n",
              "       [-0.53090217,  0.52436824, -0.32779634, ..., -1.14605288,\n",
              "        -0.03783711, -0.12563684],\n",
              "       [-0.48771147,  0.07705838,  0.21371843, ...,  1.72008276,\n",
              "         0.20859031,  0.13396097]])"
            ]
          },
          "metadata": {
            "tags": []
          },
          "execution_count": 16
        }
      ]
    },
    {
      "cell_type": "code",
      "metadata": {
        "id": "XVREK8P3StQx"
      },
      "source": [
        "R=np.random.randn(100000)"
      ],
      "execution_count": 21,
      "outputs": []
    },
    {
      "cell_type": "code",
      "metadata": {
        "id": "n57t5KfcSyG5",
        "outputId": "c00921bb-4011-45d3-d015-436c0f718eed",
        "colab": {
          "base_uri": "https://localhost:8080/",
          "height": 34
        }
      },
      "source": [
        "R.mean()"
      ],
      "execution_count": 22,
      "outputs": [
        {
          "output_type": "execute_result",
          "data": {
            "text/plain": [
              "0.0051208404212126106"
            ]
          },
          "metadata": {
            "tags": []
          },
          "execution_count": 22
        }
      ]
    },
    {
      "cell_type": "code",
      "metadata": {
        "id": "CTaklxqFXQia",
        "outputId": "0c7f3bab-500d-4261-8141-e241dec52edc",
        "colab": {
          "base_uri": "https://localhost:8080/",
          "height": 34
        }
      },
      "source": [
        "R.var()"
      ],
      "execution_count": 23,
      "outputs": [
        {
          "output_type": "execute_result",
          "data": {
            "text/plain": [
              "1.0004817885632258"
            ]
          },
          "metadata": {
            "tags": []
          },
          "execution_count": 23
        }
      ]
    },
    {
      "cell_type": "code",
      "metadata": {
        "id": "7ME7C0q3XZed",
        "outputId": "021b996a-6f0d-44a1-faf9-861dc105e3a6",
        "colab": {
          "base_uri": "https://localhost:8080/",
          "height": 34
        }
      },
      "source": [
        "R.std()"
      ],
      "execution_count": 24,
      "outputs": [
        {
          "output_type": "execute_result",
          "data": {
            "text/plain": [
              "1.0002408652735728"
            ]
          },
          "metadata": {
            "tags": []
          },
          "execution_count": 24
        }
      ]
    },
    {
      "cell_type": "code",
      "metadata": {
        "id": "dxJXtADBXfGC"
      },
      "source": [
        "R=np.random.randn(20020,45)"
      ],
      "execution_count": 25,
      "outputs": []
    },
    {
      "cell_type": "code",
      "metadata": {
        "id": "irL9CMirXm6w",
        "outputId": "cc088839-e3df-48ee-a043-5c5d5c5a5aa7",
        "colab": {
          "base_uri": "https://localhost:8080/",
          "height": 235
        }
      },
      "source": [
        "R"
      ],
      "execution_count": 26,
      "outputs": [
        {
          "output_type": "execute_result",
          "data": {
            "text/plain": [
              "array([[-2.75971653, -0.14279288,  1.1524316 , ..., -0.54307692,\n",
              "        -2.29485514, -2.29222159],\n",
              "       [-0.97204582,  0.86390725,  1.01269678, ..., -0.19261213,\n",
              "        -0.28960872,  0.01458104],\n",
              "       [ 0.44741896, -1.39419526, -1.3825289 , ..., -1.22083189,\n",
              "         0.02234764,  1.12598883],\n",
              "       ...,\n",
              "       [-1.14123302, -0.54532376,  0.18615096, ..., -1.57869188,\n",
              "        -0.63964449, -0.69993278],\n",
              "       [-0.74596303,  0.16753419, -0.57811149, ...,  1.14627793,\n",
              "         0.54690452,  1.19792522],\n",
              "       [ 0.18160668, -0.69127596, -0.70654896, ..., -0.8457718 ,\n",
              "         0.76358396,  1.05777897]])"
            ]
          },
          "metadata": {
            "tags": []
          },
          "execution_count": 26
        }
      ]
    },
    {
      "cell_type": "code",
      "metadata": {
        "id": "f05U9mj3YyuN"
      },
      "source": [
        "Array=np.random.randint(1,100,3)"
      ],
      "execution_count": 28,
      "outputs": []
    },
    {
      "cell_type": "code",
      "metadata": {
        "id": "MKWn6vX4Y-HG",
        "outputId": "5a5964e8-3800-407b-b52a-06f83e9788d1",
        "colab": {
          "base_uri": "https://localhost:8080/",
          "height": 34
        }
      },
      "source": [
        "Array"
      ],
      "execution_count": 29,
      "outputs": [
        {
          "output_type": "execute_result",
          "data": {
            "text/plain": [
              "array([22, 76, 83])"
            ]
          },
          "metadata": {
            "tags": []
          },
          "execution_count": 29
        }
      ]
    }
  ]
}