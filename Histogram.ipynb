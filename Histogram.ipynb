{
  "nbformat": 4,
  "nbformat_minor": 0,
  "metadata": {
    "colab": {
      "name": "Histogram.ipynb",
      "provenance": [],
      "authorship_tag": "ABX9TyOLFVvwl/dO/PwVF6LYkrtN",
      "include_colab_link": true
    },
    "kernelspec": {
      "name": "python3",
      "display_name": "Python 3"
    }
  },
  "cells": [
    {
      "cell_type": "markdown",
      "metadata": {
        "id": "view-in-github",
        "colab_type": "text"
      },
      "source": [
        "<a href=\"https://colab.research.google.com/github/VikramxD/Data-Science-Fundamentals/blob/gh-pages/Histogram.ipynb\" target=\"_parent\"><img src=\"https://colab.research.google.com/assets/colab-badge.svg\" alt=\"Open In Colab\"/></a>"
      ]
    },
    {
      "cell_type": "code",
      "metadata": {
        "id": "EPrm_rtK8fuD"
      },
      "source": [
        "import numpy as np\n",
        "import matplotlib.pyplot as plt"
      ],
      "execution_count": 2,
      "outputs": []
    },
    {
      "cell_type": "code",
      "metadata": {
        "id": "3tr5P2LT8v1n"
      },
      "source": [
        "x=np.random.randn(100)"
      ],
      "execution_count": 3,
      "outputs": []
    },
    {
      "cell_type": "code",
      "metadata": {
        "id": "ic23Ds7s885h",
        "outputId": "9222a788-b320-4803-d46e-46aaff34c285",
        "colab": {
          "base_uri": "https://localhost:8080/",
          "height": 735
        }
      },
      "source": [
        "plt.hist(x,bins=102)"
      ],
      "execution_count": 8,
      "outputs": [
        {
          "output_type": "execute_result",
          "data": {
            "text/plain": [
              "(array([1., 0., 0., 0., 1., 0., 1., 0., 0., 0., 1., 0., 0., 0., 0., 1., 1.,\n",
              "        0., 1., 0., 1., 1., 4., 3., 0., 0., 3., 5., 1., 1., 0., 0., 4., 0.,\n",
              "        0., 1., 0., 3., 2., 0., 1., 2., 1., 6., 2., 2., 6., 2., 6., 1., 2.,\n",
              "        1., 2., 2., 3., 1., 0., 1., 0., 1., 0., 1., 1., 0., 4., 1., 1., 3.,\n",
              "        1., 2., 0., 0., 0., 0., 0., 0., 1., 0., 0., 0., 2., 0., 0., 0., 0.,\n",
              "        0., 0., 0., 0., 0., 1., 0., 3., 0., 0., 0., 0., 0., 0., 0., 0., 1.]),\n",
              " array([-2.28083134, -2.23245667, -2.18408199, -2.13570731, -2.08733263,\n",
              "        -2.03895795, -1.99058327, -1.94220859, -1.89383391, -1.84545924,\n",
              "        -1.79708456, -1.74870988, -1.7003352 , -1.65196052, -1.60358584,\n",
              "        -1.55521116, -1.50683648, -1.4584618 , -1.41008713, -1.36171245,\n",
              "        -1.31333777, -1.26496309, -1.21658841, -1.16821373, -1.11983905,\n",
              "        -1.07146437, -1.02308969, -0.97471502, -0.92634034, -0.87796566,\n",
              "        -0.82959098, -0.7812163 , -0.73284162, -0.68446694, -0.63609226,\n",
              "        -0.58771759, -0.53934291, -0.49096823, -0.44259355, -0.39421887,\n",
              "        -0.34584419, -0.29746951, -0.24909483, -0.20072015, -0.15234548,\n",
              "        -0.1039708 , -0.05559612, -0.00722144,  0.04115324,  0.08952792,\n",
              "         0.1379026 ,  0.18627728,  0.23465196,  0.28302663,  0.33140131,\n",
              "         0.37977599,  0.42815067,  0.47652535,  0.52490003,  0.57327471,\n",
              "         0.62164939,  0.67002407,  0.71839874,  0.76677342,  0.8151481 ,\n",
              "         0.86352278,  0.91189746,  0.96027214,  1.00864682,  1.0570215 ,\n",
              "         1.10539617,  1.15377085,  1.20214553,  1.25052021,  1.29889489,\n",
              "         1.34726957,  1.39564425,  1.44401893,  1.49239361,  1.54076828,\n",
              "         1.58914296,  1.63751764,  1.68589232,  1.734267  ,  1.78264168,\n",
              "         1.83101636,  1.87939104,  1.92776572,  1.97614039,  2.02451507,\n",
              "         2.07288975,  2.12126443,  2.16963911,  2.21801379,  2.26638847,\n",
              "         2.31476315,  2.36313782,  2.4115125 ,  2.45988718,  2.50826186,\n",
              "         2.55663654,  2.60501122,  2.6533859 ]),\n",
              " <a list of 102 Patch objects>)"
            ]
          },
          "metadata": {
            "tags": []
          },
          "execution_count": 8
        },
        {
          "output_type": "display_data",
          "data": {
            "image/png": "[encoded data removed]",
            "text/plain": [
              "<Figure size 432x288 with 1 Axes>"
            ]
          },
          "metadata": {
            "tags": [],
            "needs_background": "light"
          }
        }
      ]
    },
    {
      "cell_type": "code",
      "metadata": {
        "id": "qO2w19wo9ZEu"
      },
      "source": [
        ""
      ],
      "execution_count": null,
      "outputs": []
    }
  ]
}